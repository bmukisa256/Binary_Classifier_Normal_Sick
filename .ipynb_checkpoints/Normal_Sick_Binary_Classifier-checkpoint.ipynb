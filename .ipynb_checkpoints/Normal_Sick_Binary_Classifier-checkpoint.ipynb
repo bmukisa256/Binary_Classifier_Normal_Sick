{
 "cells": [
  {
   "cell_type": "code",
   "execution_count": 51,
   "id": "07c9a269-0f5b-4d50-96aa-ba66df355d24",
   "metadata": {},
   "outputs": [],
   "source": [
    "import os\n",
    "import shutil\n",
    "from sklearn.model_selection import train_test_split\n",
    "\n",
    "# Paths to the directories\n",
    "known_images_dir = r\"C:\\Users\\bmuki\\Downloads\\deep_learning_project_summerschool\\deep_learning_project_summerschool\\deep_learning_project\\dataset1\\known_images\"\n",
    "train_dir = r\"C:\\Users\\bmuki\\Downloads\\deep_learning_project_summerschool\\deep_learning_project_summerschool\\deep_learning_project\\dataset1\\train\"\n",
    "val_dir = r\"C:\\Users\\bmuki\\Downloads\\deep_learning_project_summerschool\\deep_learning_project_summerschool\\deep_learning_project\\dataset1\\val\"\n",
    "\n",
    "# Subdirectories for each class in train and val directories\n",
    "os.makedirs(os.path.join(train_dir, 'normal'), exist_ok=True)\n",
    "os.makedirs(os.path.join(train_dir, 'sick'), exist_ok=True)\n",
    "os.makedirs(os.path.join(val_dir, 'normal'), exist_ok=True)\n",
    "os.makedirs(os.path.join(val_dir, 'sick'), exist_ok=True)\n",
    "\n",
    "# List of all image filenames\n",
    "image_filenames = os.listdir(known_images_dir)\n",
    "\n",
    "# Labels\n",
    "labels = [\n",
    "    'normal' if 'normal' in filename else 'sick' for filename in image_filenames\n",
    "]\n",
    "\n",
    "# Split\n",
    "train_filenames, val_filenames = train_test_split(image_filenames, test_size=0.3, stratify=labels, random_state = 0)\n",
    "\n",
    "# Move files into respective directories\n",
    "for filename, label in zip(train_filenames, [labels[image_filenames.index(f)] for f in train_filenames]):\n",
    "    shutil.copy(os.path.join(known_images_dir, filename), os.path.join(train_dir, label))\n",
    "\n",
    "for filename, label in zip(val_filenames, [labels[image_filenames.index(f)] for f in val_filenames]):\n",
    "    shutil.copy(os.path.join(known_images_dir, filename), os.path.join(val_dir, label))\n"
   ]
  },
  {
   "cell_type": "code",
   "execution_count": 16,
   "id": "5a9a8762-bfaf-4d91-bfe5-aa84e64e53db",
   "metadata": {},
   "outputs": [
    {
     "name": "stdout",
     "output_type": "stream",
     "text": [
      "Train directory contents: ['normal_0.png', 'normal_1.png', 'normal_10.png', 'normal_101.png', 'normal_102.png', 'normal_103.png', 'normal_104.png', 'normal_105.png', 'normal_106.png', 'normal_107.png', 'normal_108.png', 'normal_109.png', 'normal_11.png', 'normal_110.png', 'normal_111.png', 'normal_112.png', 'normal_113.png', 'normal_114.png', 'normal_115.png', 'normal_116.png', 'normal_117.png', 'normal_118.png', 'normal_119.png', 'normal_12.png', 'normal_120.png', 'normal_121.png', 'normal_122.png', 'normal_123.png', 'normal_124.png', 'normal_125.png', 'normal_126.png', 'normal_127.png', 'normal_128.png', 'normal_129.png', 'normal_13.png', 'normal_130.png', 'normal_131.png', 'normal_132.png', 'normal_133.png', 'normal_134.png', 'normal_135.png', 'normal_136.png', 'normal_137.png', 'normal_138.png', 'normal_139.png', 'normal_140.png', 'normal_141.png', 'normal_142.png', 'normal_143.png', 'normal_144.png', 'normal_145.png', 'normal_146.png', 'normal_147.png', 'normal_148.png', 'normal_149.png', 'normal_15.png', 'normal_150.png', 'normal_151.png', 'normal_152.png', 'normal_153.png', 'normal_154.png', 'normal_155.png', 'normal_156.png', 'normal_157.png', 'normal_158.png', 'normal_159.png', 'normal_16.png', 'normal_160.png', 'normal_161.png', 'normal_162.png', 'normal_163.png', 'normal_164.png', 'normal_165.png', 'normal_166.png', 'normal_167.png', 'normal_168.png', 'normal_169.png', 'normal_17.png', 'normal_170.png', 'normal_171.png', 'normal_172.png', 'normal_173.png', 'normal_174.png', 'normal_175.png', 'normal_176.png', 'normal_177.png', 'normal_178.png', 'normal_179.png', 'normal_18.png', 'normal_180.png', 'normal_181.png', 'normal_182.png', 'normal_183.png', 'normal_184.png', 'normal_185.png', 'normal_186.png', 'normal_188.png', 'normal_189.png', 'normal_190.png', 'normal_191.png', 'normal_192.png', 'normal_193.png', 'normal_194.png', 'normal_195.png', 'normal_196.png', 'normal_197.png', 'normal_198.png', 'normal_199.png', 'normal_2.png', 'normal_20.png', 'normal_201.png', 'normal_202.png', 'normal_203.png', 'normal_204.png', 'normal_205.png', 'normal_206.png', 'normal_207.png', 'normal_208.png', 'normal_209.png', 'normal_21.png', 'normal_210.png', 'normal_211.png', 'normal_212.png', 'normal_213.png', 'normal_214.png', 'normal_215.png', 'normal_216.png', 'normal_217.png', 'normal_219.png', 'normal_22.png', 'normal_220.png', 'normal_221.png', 'normal_222.png', 'normal_223.png', 'normal_224.png', 'normal_225.png', 'normal_226.png', 'normal_227.png', 'normal_228.png', 'normal_229.png', 'normal_23.png', 'normal_230.png', 'normal_231.png', 'normal_232.png', 'normal_233.png', 'normal_234.png', 'normal_235.png', 'normal_236.png', 'normal_237.png', 'normal_238.png', 'normal_239.png', 'normal_240.png', 'normal_241.png', 'normal_242.png', 'normal_243.png', 'normal_244.png', 'normal_245.png', 'normal_246.png', 'normal_247.png', 'normal_248.png', 'normal_249.png', 'normal_25.png', 'normal_250.png', 'normal_251.png', 'normal_252.png', 'normal_253.png', 'normal_254.png', 'normal_255.png', 'normal_256.png', 'normal_257.png', 'normal_258.png', 'normal_259.png', 'normal_26.png', 'normal_260.png', 'normal_261.png', 'normal_262.png', 'normal_263.png', 'normal_264.png', 'normal_265.png', 'normal_266.png', 'normal_267.png', 'normal_268.png', 'normal_269.png', 'normal_27.png', 'normal_270.png', 'normal_271.png', 'normal_272.png', 'normal_273.png', 'normal_274.png', 'normal_275.png', 'normal_276.png', 'normal_277.png', 'normal_278.png', 'normal_279.png', 'normal_280.png', 'normal_281.png', 'normal_282.png', 'normal_283.png', 'normal_284.png', 'normal_285.png', 'normal_286.png', 'normal_287.png', 'normal_288.png', 'normal_289.png', 'normal_29.png', 'normal_290.png', 'normal_291.png', 'normal_292.png', 'normal_293.png', 'normal_294.png', 'normal_295.png', 'normal_297.png', 'normal_298.png', 'normal_299.png', 'normal_3.png', 'normal_30.png', 'normal_300.png', 'normal_301.png', 'normal_302.png', 'normal_303.png', 'normal_304.png', 'normal_305.png', 'normal_306.png', 'normal_307.png', 'normal_308.png', 'normal_309.png', 'normal_31.png', 'normal_310.png', 'normal_311.png', 'normal_312.png', 'normal_313.png', 'normal_314.png', 'normal_315.png', 'normal_316.png', 'normal_317.png', 'normal_318.png', 'normal_319.png', 'normal_32.png', 'normal_320.png', 'normal_321.png', 'normal_322.png', 'normal_323.png', 'normal_325.png', 'normal_326.png', 'normal_327.png', 'normal_328.png', 'normal_329.png', 'normal_33.png', 'normal_330.png', 'normal_331.png', 'normal_332.png', 'normal_333.png', 'normal_334.png', 'normal_335.png', 'normal_336.png', 'normal_338.png', 'normal_339.png', 'normal_340.png', 'normal_342.png', 'normal_343.png', 'normal_345.png', 'normal_346.png', 'normal_347.png', 'normal_348.png', 'normal_349.png', 'normal_35.png', 'normal_350.png', 'normal_351.png', 'normal_352.png', 'normal_354.png', 'normal_355.png', 'normal_356.png', 'normal_357.png', 'normal_358.png', 'normal_359.png', 'normal_36.png', 'normal_360.png', 'normal_37.png', 'normal_38.png', 'normal_39.png', 'normal_40.png', 'normal_42.png', 'normal_43.png', 'normal_44.png', 'normal_45.png', 'normal_47.png', 'normal_48.png', 'normal_49.png', 'normal_5.png', 'normal_50.png', 'normal_51.png', 'normal_52.png', 'normal_53.png', 'normal_54.png', 'normal_55.png', 'normal_56.png', 'normal_57.png', 'normal_58.png', 'normal_59.png', 'normal_60.png', 'normal_61.png', 'normal_62.png', 'normal_64.png', 'normal_646.png', 'normal_647.png', 'normal_648.png', 'normal_649.png', 'normal_65.png', 'normal_650.png', 'normal_651.png', 'normal_652.png', 'normal_653.png', 'normal_654.png', 'normal_655.png', 'normal_656.png', 'normal_657.png', 'normal_658.png', 'normal_659.png', 'normal_660.png', 'normal_661.png', 'normal_662.png', 'normal_663.png', 'normal_664.png', 'normal_665.png', 'normal_666.png', 'normal_667.png', 'normal_668.png', 'normal_669.png', 'normal_67.png', 'normal_671.png', 'normal_672.png', 'normal_673.png', 'normal_68.png', 'normal_7.png', 'normal_70.png', 'normal_71.png', 'normal_72.png', 'normal_74.png', 'normal_75.png', 'normal_76.png', 'normal_77.png', 'normal_78.png', 'normal_8.png', 'normal_80.png', 'normal_81.png', 'normal_82.png', 'normal_83.png', 'normal_84.png', 'normal_85.png', 'normal_86.png', 'normal_87.png', 'normal_88.png', 'normal_89.png', 'normal_9.png', 'normal_90.png', 'normal_91.png', 'normal_92.png', 'normal_93.png', 'normal_94.png', 'normal_95.png', 'normal_97.png', 'normal_98.png', 'normal_99.png', 'sick_0.png', 'sick_1.png', 'sick_10.png', 'sick_100.png', 'sick_101.png', 'sick_102.png', 'sick_103.png', 'sick_104.png', 'sick_105.png', 'sick_106.png', 'sick_107.png', 'sick_108.png', 'sick_11.png', 'sick_110.png', 'sick_111.png', 'sick_112.png', 'sick_113.png', 'sick_114.png', 'sick_115.png', 'sick_116.png', 'sick_118.png', 'sick_119.png', 'sick_12.png', 'sick_120.png', 'sick_121.png', 'sick_122.png', 'sick_123.png', 'sick_124.png', 'sick_125.png', 'sick_126.png', 'sick_127.png', 'sick_128.png', 'sick_129.png', 'sick_13.png', 'sick_130.png', 'sick_131.png', 'sick_132.png', 'sick_133.png', 'sick_134.png', 'sick_135.png', 'sick_137.png', 'sick_138.png', 'sick_139.png', 'sick_14.png', 'sick_140.png', 'sick_141.png', 'sick_142.png', 'sick_143.png', 'sick_144.png', 'sick_145.png', 'sick_146.png', 'sick_147.png', 'sick_148.png', 'sick_149.png', 'sick_15.png', 'sick_150.png', 'sick_151.png', 'sick_152.png', 'sick_153.png', 'sick_154.png', 'sick_155.png', 'sick_156.png', 'sick_157.png', 'sick_158.png', 'sick_159.png', 'sick_16.png', 'sick_160.png', 'sick_161.png', 'sick_162.png', 'sick_163.png', 'sick_164.png', 'sick_166.png', 'sick_167.png', 'sick_168.png', 'sick_169.png', 'sick_17.png', 'sick_170.png', 'sick_171.png', 'sick_172.png', 'sick_173.png', 'sick_174.png', 'sick_176.png', 'sick_177.png', 'sick_178.png', 'sick_179.png', 'sick_180.png', 'sick_181.png', 'sick_182.png', 'sick_183.png', 'sick_184.png', 'sick_185.png', 'sick_186.png', 'sick_187.png', 'sick_188.png', 'sick_189.png', 'sick_19.png', 'sick_190.png', 'sick_191.png', 'sick_192.png', 'sick_193.png', 'sick_195.png', 'sick_196.png', 'sick_197.png', 'sick_198.png', 'sick_199.png', 'sick_20.png', 'sick_200.png', 'sick_201.png', 'sick_202.png', 'sick_203.png', 'sick_204.png', 'sick_205.png', 'sick_206.png', 'sick_207.png', 'sick_208.png', 'sick_209.png', 'sick_21.png', 'sick_211.png', 'sick_212.png', 'sick_213.png', 'sick_215.png', 'sick_216.png', 'sick_217.png', 'sick_219.png', 'sick_22.png', 'sick_220.png', 'sick_222.png', 'sick_223.png', 'sick_224.png', 'sick_226.png', 'sick_228.png', 'sick_229.png', 'sick_23.png', 'sick_230.png', 'sick_231.png', 'sick_233.png', 'sick_234.png', 'sick_235.png', 'sick_236.png', 'sick_237.png', 'sick_238.png', 'sick_24.png', 'sick_240.png', 'sick_241.png', 'sick_242.png', 'sick_243.png', 'sick_244.png', 'sick_245.png', 'sick_246.png', 'sick_247.png', 'sick_248.png', 'sick_249.png', 'sick_250.png', 'sick_251.png', 'sick_252.png', 'sick_253.png', 'sick_254.png', 'sick_255.png', 'sick_257.png', 'sick_258.png', 'sick_259.png', 'sick_26.png', 'sick_260.png', 'sick_261.png', 'sick_262.png', 'sick_263.png', 'sick_264.png', 'sick_265.png', 'sick_266.png', 'sick_267.png', 'sick_268.png', 'sick_269.png', 'sick_27.png', 'sick_270.png', 'sick_272.png', 'sick_273.png', 'sick_274.png', 'sick_275.png', 'sick_276.png', 'sick_277.png', 'sick_278.png', 'sick_279.png', 'sick_28.png', 'sick_280.png', 'sick_281.png', 'sick_282.png', 'sick_283.png', 'sick_284.png', 'sick_285.png', 'sick_286.png', 'sick_287.png', 'sick_288.png', 'sick_289.png', 'sick_29.png', 'sick_290.png', 'sick_291.png', 'sick_292.png', 'sick_293.png', 'sick_294.png', 'sick_295.png', 'sick_296.png', 'sick_297.png', 'sick_298.png', 'sick_299.png', 'sick_3.png', 'sick_30.png', 'sick_300.png', 'sick_301.png', 'sick_302.png', 'sick_303.png', 'sick_304.png', 'sick_305.png', 'sick_306.png', 'sick_307.png', 'sick_308.png', 'sick_309.png', 'sick_31.png', 'sick_310.png', 'sick_311.png', 'sick_312.png', 'sick_313.png', 'sick_314.png', 'sick_315.png', 'sick_316.png', 'sick_317.png', 'sick_318.png', 'sick_319.png', 'sick_32.png', 'sick_320.png', 'sick_321.png', 'sick_322.png', 'sick_323.png', 'sick_324.png', 'sick_325.png', 'sick_326.png', 'sick_327.png', 'sick_328.png', 'sick_329.png', 'sick_33.png', 'sick_330.png', 'sick_331.png', 'sick_332.png', 'sick_333.png', 'sick_334.png', 'sick_335.png', 'sick_336.png', 'sick_337.png', 'sick_338.png', 'sick_339.png', 'sick_34.png', 'sick_340.png', 'sick_341.png', 'sick_342.png', 'sick_343.png', 'sick_344.png', 'sick_345.png', 'sick_347.png', 'sick_348.png', 'sick_349.png', 'sick_35.png', 'sick_350.png', 'sick_351.png', 'sick_352.png', 'sick_353.png', 'sick_354.png', 'sick_355.png', 'sick_356.png', 'sick_357.png', 'sick_358.png', 'sick_359.png', 'sick_36.png', 'sick_360.png', 'sick_361.png', 'sick_362.png', 'sick_363.png', 'sick_364.png', 'sick_365.png', 'sick_366.png', 'sick_367.png', 'sick_368.png', 'sick_369.png', 'sick_37.png', 'sick_370.png', 'sick_371.png', 'sick_372.png', 'sick_373.png', 'sick_375.png', 'sick_38.png', 'sick_39.png', 'sick_4.png', 'sick_40.png', 'sick_41.png', 'sick_42.png', 'sick_43.png', 'sick_44.png', 'sick_45.png', 'sick_46.png', 'sick_47.png', 'sick_48.png', 'sick_49.png', 'sick_5.png', 'sick_50.png', 'sick_52.png', 'sick_53.png', 'sick_54.png', 'sick_55.png', 'sick_56.png', 'sick_57.png', 'sick_58.png', 'sick_59.png', 'sick_6.png', 'sick_60.png', 'sick_61.png', 'sick_62.png', 'sick_63.png', 'sick_64.png', 'sick_65.png', 'sick_66.png', 'sick_67.png', 'sick_68.png', 'sick_69.png', 'sick_70.png', 'sick_71.png', 'sick_72.png', 'sick_73.png', 'sick_74.png', 'sick_75.png', 'sick_76.png', 'sick_77.png', 'sick_78.png', 'sick_79.png', 'sick_8.png', 'sick_80.png', 'sick_81.png', 'sick_82.png', 'sick_84.png', 'sick_85.png', 'sick_86.png', 'sick_87.png', 'sick_88.png', 'sick_89.png', 'sick_9.png', 'sick_90.png', 'sick_91.png', 'sick_92.png', 'sick_93.png', 'sick_96.png', 'sick_97.png', 'sick_98.png', 'sick_99.png']\n",
      "Validation directory contents: ['normal_101.png', 'normal_102.png', 'normal_103.png', 'normal_104.png', 'normal_105.png', 'normal_106.png', 'normal_107.png', 'normal_108.png', 'normal_111.png', 'normal_114.png', 'normal_115.png', 'normal_116.png', 'normal_118.png', 'normal_119.png', 'normal_12.png', 'normal_122.png', 'normal_123.png', 'normal_124.png', 'normal_126.png', 'normal_127.png', 'normal_128.png', 'normal_129.png', 'normal_130.png', 'normal_132.png', 'normal_133.png', 'normal_135.png', 'normal_140.png', 'normal_141.png', 'normal_143.png', 'normal_148.png', 'normal_15.png', 'normal_150.png', 'normal_151.png', 'normal_154.png', 'normal_156.png', 'normal_159.png', 'normal_16.png', 'normal_161.png', 'normal_168.png', 'normal_169.png', 'normal_170.png', 'normal_172.png', 'normal_174.png', 'normal_175.png', 'normal_176.png', 'normal_181.png', 'normal_185.png', 'normal_189.png', 'normal_193.png', 'normal_194.png', 'normal_195.png', 'normal_197.png', 'normal_198.png', 'normal_199.png', 'normal_201.png', 'normal_205.png', 'normal_206.png', 'normal_208.png', 'normal_213.png', 'normal_215.png', 'normal_216.png', 'normal_220.png', 'normal_221.png', 'normal_222.png', 'normal_223.png', 'normal_225.png', 'normal_226.png', 'normal_227.png', 'normal_229.png', 'normal_23.png', 'normal_230.png', 'normal_231.png', 'normal_233.png', 'normal_234.png', 'normal_235.png', 'normal_236.png', 'normal_238.png', 'normal_239.png', 'normal_241.png', 'normal_245.png', 'normal_246.png', 'normal_25.png', 'normal_250.png', 'normal_251.png', 'normal_253.png', 'normal_256.png', 'normal_258.png', 'normal_259.png', 'normal_26.png', 'normal_260.png', 'normal_264.png', 'normal_265.png', 'normal_267.png', 'normal_268.png', 'normal_269.png', 'normal_27.png', 'normal_270.png', 'normal_272.png', 'normal_274.png', 'normal_275.png', 'normal_276.png', 'normal_278.png', 'normal_284.png', 'normal_285.png', 'normal_286.png', 'normal_288.png', 'normal_289.png', 'normal_291.png', 'normal_294.png', 'normal_295.png', 'normal_30.png', 'normal_302.png', 'normal_304.png', 'normal_305.png', 'normal_307.png', 'normal_308.png', 'normal_311.png', 'normal_312.png', 'normal_314.png', 'normal_315.png', 'normal_319.png', 'normal_32.png', 'normal_321.png', 'normal_323.png', 'normal_325.png', 'normal_326.png', 'normal_327.png', 'normal_33.png', 'normal_331.png', 'normal_333.png', 'normal_334.png', 'normal_336.png', 'normal_341.png', 'normal_346.png', 'normal_349.png', 'normal_350.png', 'normal_354.png', 'normal_356.png', 'normal_357.png', 'normal_358.png', 'normal_359.png', 'normal_360.png', 'normal_38.png', 'normal_40.png', 'normal_44.png', 'normal_45.png', 'normal_49.png', 'normal_50.png', 'normal_51.png', 'normal_52.png', 'normal_55.png', 'normal_59.png', 'normal_62.png', 'normal_647.png', 'normal_648.png', 'normal_651.png', 'normal_652.png', 'normal_653.png', 'normal_654.png', 'normal_656.png', 'normal_657.png', 'normal_661.png', 'normal_663.png', 'normal_664.png', 'normal_666.png', 'normal_667.png', 'normal_673.png', 'normal_70.png', 'normal_71.png', 'normal_76.png', 'normal_80.png', 'normal_85.png', 'normal_89.png', 'normal_90.png', 'normal_94.png', 'normal_95.png', 'sick_102.png', 'sick_103.png', 'sick_104.png', 'sick_105.png', 'sick_106.png', 'sick_108.png', 'sick_11.png', 'sick_111.png', 'sick_113.png', 'sick_115.png', 'sick_116.png', 'sick_118.png', 'sick_120.png', 'sick_121.png', 'sick_122.png', 'sick_127.png', 'sick_128.png', 'sick_13.png', 'sick_130.png', 'sick_131.png', 'sick_134.png', 'sick_135.png', 'sick_137.png', 'sick_14.png', 'sick_140.png', 'sick_143.png', 'sick_144.png', 'sick_147.png', 'sick_148.png', 'sick_149.png', 'sick_15.png', 'sick_150.png', 'sick_151.png', 'sick_152.png', 'sick_156.png', 'sick_157.png', 'sick_16.png', 'sick_163.png', 'sick_164.png', 'sick_169.png', 'sick_170.png', 'sick_171.png', 'sick_176.png', 'sick_177.png', 'sick_178.png', 'sick_181.png', 'sick_186.png', 'sick_188.png', 'sick_192.png', 'sick_193.png', 'sick_195.png', 'sick_196.png', 'sick_198.png', 'sick_20.png', 'sick_200.png', 'sick_201.png', 'sick_204.png', 'sick_205.png', 'sick_206.png', 'sick_207.png', 'sick_21.png', 'sick_211.png', 'sick_222.png', 'sick_223.png', 'sick_224.png', 'sick_226.png', 'sick_228.png', 'sick_229.png', 'sick_233.png', 'sick_235.png', 'sick_241.png', 'sick_244.png', 'sick_245.png', 'sick_246.png', 'sick_249.png', 'sick_250.png', 'sick_251.png', 'sick_253.png', 'sick_255.png', 'sick_257.png', 'sick_258.png', 'sick_26.png', 'sick_260.png', 'sick_263.png', 'sick_266.png', 'sick_267.png', 'sick_27.png', 'sick_272.png', 'sick_275.png', 'sick_277.png', 'sick_278.png', 'sick_279.png', 'sick_28.png', 'sick_280.png', 'sick_281.png', 'sick_284.png', 'sick_285.png', 'sick_286.png', 'sick_288.png', 'sick_289.png', 'sick_29.png', 'sick_291.png', 'sick_292.png', 'sick_293.png', 'sick_295.png', 'sick_297.png', 'sick_298.png', 'sick_30.png', 'sick_300.png', 'sick_301.png', 'sick_302.png', 'sick_303.png', 'sick_304.png', 'sick_305.png', 'sick_310.png', 'sick_312.png', 'sick_313.png', 'sick_315.png', 'sick_316.png', 'sick_317.png', 'sick_319.png', 'sick_32.png', 'sick_320.png', 'sick_324.png', 'sick_325.png', 'sick_326.png', 'sick_327.png', 'sick_328.png', 'sick_331.png', 'sick_333.png', 'sick_336.png', 'sick_338.png', 'sick_34.png', 'sick_341.png', 'sick_342.png', 'sick_344.png', 'sick_35.png', 'sick_351.png', 'sick_352.png', 'sick_353.png', 'sick_355.png', 'sick_358.png', 'sick_36.png', 'sick_360.png', 'sick_361.png', 'sick_368.png', 'sick_37.png', 'sick_371.png', 'sick_38.png', 'sick_40.png', 'sick_42.png', 'sick_43.png', 'sick_47.png', 'sick_49.png', 'sick_53.png', 'sick_56.png', 'sick_57.png', 'sick_64.png', 'sick_65.png', 'sick_66.png', 'sick_67.png', 'sick_68.png', 'sick_72.png', 'sick_75.png', 'sick_78.png', 'sick_80.png', 'sick_85.png', 'sick_86.png', 'sick_88.png', 'sick_89.png', 'sick_90.png', 'sick_91.png', 'sick_94.png', 'sick_96.png']\n"
     ]
    }
   ],
   "source": [
    "print(\"Train directory contents:\", os.listdir(train_dir))\n",
    "print(\"Validation directory contents:\", os.listdir(val_dir))\n"
   ]
  },
  {
   "cell_type": "code",
   "execution_count": 52,
   "id": "c9538dde-c6cf-4256-9661-39ffb13c69be",
   "metadata": {},
   "outputs": [
    {
     "name": "stdout",
     "output_type": "stream",
     "text": [
      "Found 702 images belonging to 2 classes.\n",
      "Found 512 images belonging to 2 classes.\n"
     ]
    }
   ],
   "source": [
    "from tensorflow.keras.preprocessing.image import ImageDataGenerator\n",
    "\n",
    "train_aug = ImageDataGenerator(\n",
    "    rescale=1./255,\n",
    "    rotation_range=20,\n",
    "    width_shift_range=0.2,\n",
    "    height_shift_range=0.2,\n",
    "    #shear_range=0.2,\n",
    "    zoom_range=0.2,\n",
    "    #horizontal_flip=True\n",
    ")\n",
    "\n",
    "val_aug = ImageDataGenerator(rescale=1./255)\n",
    "\n",
    "# Load data\n",
    "train_generator = train_aug.flow_from_directory(\n",
    "    train_dir,\n",
    "    target_size=(224, 224),\n",
    "    batch_size=30,\n",
    "    class_mode='binary'\n",
    ")\n",
    "\n",
    "val_generator = val_aug.flow_from_directory(\n",
    "    val_dir,\n",
    "    target_size=(224, 224),\n",
    "    batch_size=30,\n",
    "    class_mode='binary'\n",
    ")\n"
   ]
  },
  {
   "cell_type": "code",
   "execution_count": 53,
   "id": "c5594cca-9fc0-4ec8-8320-8055e9417938",
   "metadata": {},
   "outputs": [
    {
     "name": "stderr",
     "output_type": "stream",
     "text": [
      "C:\\Users\\bmuki\\anaconda311\\Lib\\site-packages\\keras\\src\\layers\\convolutional\\base_conv.py:107: UserWarning: Do not pass an `input_shape`/`input_dim` argument to a layer. When using Sequential models, prefer using an `Input(shape)` object as the first layer in the model instead.\n",
      "  super().__init__(activity_regularizer=activity_regularizer, **kwargs)\n"
     ]
    }
   ],
   "source": [
    "import tensorflow as tf\n",
    "from tensorflow.keras import layers, models\n",
    "\n",
    "# CNN model w few units\n",
    "model_1 = models.Sequential([\n",
    "    layers.Conv2D(32, (3, 3), activation='relu', input_shape=(224, 224, 3)),\n",
    "    layers.MaxPooling2D((2, 2)),\n",
    "    layers.Conv2D(64, (3, 3), activation='relu'),\n",
    "    layers.MaxPooling2D((2, 2)),\n",
    "   # layers.Conv2D(128, (3, 3), activation='relu'),\n",
    "   # layers.MaxPooling2D((2, 2)),\n",
    "    \n",
    "    # Fully connected layer\n",
    "    layers.Flatten(),\n",
    "    layers.Dense(128, activation='relu'),\n",
    "    layers.Dropout(0.5),\n",
    "\n",
    "      # Output layer\n",
    "    layers.Dense(1, activation='sigmoid')\n",
    "])"
   ]
  },
  {
   "cell_type": "code",
   "execution_count": 61,
   "id": "58133fa5-f1fa-4455-b9f9-430b54368bf5",
   "metadata": {},
   "outputs": [],
   "source": [
    "import tensorflow as tf\n",
    "from tensorflow.keras import layers, models\n",
    "\n",
    "# CNN model w high units\n",
    "model_2 = models.Sequential([\n",
    "    layers.Conv2D(32, (3, 3), activation='relu', input_shape=(224, 224, 3)),\n",
    "    layers.MaxPooling2D((2, 2)),\n",
    "    layers.Conv2D(64, (3, 3), activation='relu'),\n",
    "    layers.MaxPooling2D((2, 2)),\n",
    "    layers.Conv2D(128, (3, 3), activation='relu'),\n",
    "    layers.MaxPooling2D((2, 2)),\n",
    "    layers.Conv2D(128, (3, 3), activation='relu'),\n",
    "    layers.MaxPooling2D((2, 2)),\n",
    "\n",
    "    # Fully connected layer\n",
    "    layers.Flatten(),\n",
    "    layers.Dense(512, activation='relu'),\n",
    "    layers.Dropout(0.5),\n",
    "    \n",
    "    # Output layer\n",
    "    layers.Dense(1, activation='sigmoid')\n",
    "])"
   ]
  },
  {
   "cell_type": "code",
   "execution_count": 63,
   "id": "8b1af88d-8d8e-4348-969c-90cd057f2550",
   "metadata": {},
   "outputs": [
    {
     "data": {
      "text/html": [
       "<pre style=\"white-space:pre;overflow-x:auto;line-height:normal;font-family:Menlo,'DejaVu Sans Mono',consolas,'Courier New',monospace\"><span style=\"font-weight: bold\">Model: \"sequential_7\"</span>\n",
       "</pre>\n"
      ],
      "text/plain": [
       "\u001b[1mModel: \"sequential_7\"\u001b[0m\n"
      ]
     },
     "metadata": {},
     "output_type": "display_data"
    },
    {
     "data": {
      "text/html": [
       "<pre style=\"white-space:pre;overflow-x:auto;line-height:normal;font-family:Menlo,'DejaVu Sans Mono',consolas,'Courier New',monospace\">┏━━━━━━━━━━━━━━━━━━━━━━━━━━━━━━━━━━━━━━┳━━━━━━━━━━━━━━━━━━━━━━━━━━━━━┳━━━━━━━━━━━━━━━━━┓\n",
       "┃<span style=\"font-weight: bold\"> Layer (type)                         </span>┃<span style=\"font-weight: bold\"> Output Shape                </span>┃<span style=\"font-weight: bold\">         Param # </span>┃\n",
       "┡━━━━━━━━━━━━━━━━━━━━━━━━━━━━━━━━━━━━━━╇━━━━━━━━━━━━━━━━━━━━━━━━━━━━━╇━━━━━━━━━━━━━━━━━┩\n",
       "│ conv2d_19 (<span style=\"color: #0087ff; text-decoration-color: #0087ff\">Conv2D</span>)                   │ (<span style=\"color: #00d7ff; text-decoration-color: #00d7ff\">None</span>, <span style=\"color: #00af00; text-decoration-color: #00af00\">222</span>, <span style=\"color: #00af00; text-decoration-color: #00af00\">222</span>, <span style=\"color: #00af00; text-decoration-color: #00af00\">32</span>)        │             <span style=\"color: #00af00; text-decoration-color: #00af00\">896</span> │\n",
       "├──────────────────────────────────────┼─────────────────────────────┼─────────────────┤\n",
       "│ max_pooling2d_19 (<span style=\"color: #0087ff; text-decoration-color: #0087ff\">MaxPooling2D</span>)      │ (<span style=\"color: #00d7ff; text-decoration-color: #00d7ff\">None</span>, <span style=\"color: #00af00; text-decoration-color: #00af00\">111</span>, <span style=\"color: #00af00; text-decoration-color: #00af00\">111</span>, <span style=\"color: #00af00; text-decoration-color: #00af00\">32</span>)        │               <span style=\"color: #00af00; text-decoration-color: #00af00\">0</span> │\n",
       "├──────────────────────────────────────┼─────────────────────────────┼─────────────────┤\n",
       "│ conv2d_20 (<span style=\"color: #0087ff; text-decoration-color: #0087ff\">Conv2D</span>)                   │ (<span style=\"color: #00d7ff; text-decoration-color: #00d7ff\">None</span>, <span style=\"color: #00af00; text-decoration-color: #00af00\">109</span>, <span style=\"color: #00af00; text-decoration-color: #00af00\">109</span>, <span style=\"color: #00af00; text-decoration-color: #00af00\">64</span>)        │          <span style=\"color: #00af00; text-decoration-color: #00af00\">18,496</span> │\n",
       "├──────────────────────────────────────┼─────────────────────────────┼─────────────────┤\n",
       "│ max_pooling2d_20 (<span style=\"color: #0087ff; text-decoration-color: #0087ff\">MaxPooling2D</span>)      │ (<span style=\"color: #00d7ff; text-decoration-color: #00d7ff\">None</span>, <span style=\"color: #00af00; text-decoration-color: #00af00\">54</span>, <span style=\"color: #00af00; text-decoration-color: #00af00\">54</span>, <span style=\"color: #00af00; text-decoration-color: #00af00\">64</span>)          │               <span style=\"color: #00af00; text-decoration-color: #00af00\">0</span> │\n",
       "├──────────────────────────────────────┼─────────────────────────────┼─────────────────┤\n",
       "│ flatten_7 (<span style=\"color: #0087ff; text-decoration-color: #0087ff\">Flatten</span>)                  │ (<span style=\"color: #00d7ff; text-decoration-color: #00d7ff\">None</span>, <span style=\"color: #00af00; text-decoration-color: #00af00\">186624</span>)              │               <span style=\"color: #00af00; text-decoration-color: #00af00\">0</span> │\n",
       "├──────────────────────────────────────┼─────────────────────────────┼─────────────────┤\n",
       "│ dense_14 (<span style=\"color: #0087ff; text-decoration-color: #0087ff\">Dense</span>)                     │ (<span style=\"color: #00d7ff; text-decoration-color: #00d7ff\">None</span>, <span style=\"color: #00af00; text-decoration-color: #00af00\">128</span>)                 │      <span style=\"color: #00af00; text-decoration-color: #00af00\">23,888,000</span> │\n",
       "├──────────────────────────────────────┼─────────────────────────────┼─────────────────┤\n",
       "│ dropout_7 (<span style=\"color: #0087ff; text-decoration-color: #0087ff\">Dropout</span>)                  │ (<span style=\"color: #00d7ff; text-decoration-color: #00d7ff\">None</span>, <span style=\"color: #00af00; text-decoration-color: #00af00\">128</span>)                 │               <span style=\"color: #00af00; text-decoration-color: #00af00\">0</span> │\n",
       "├──────────────────────────────────────┼─────────────────────────────┼─────────────────┤\n",
       "│ dense_15 (<span style=\"color: #0087ff; text-decoration-color: #0087ff\">Dense</span>)                     │ (<span style=\"color: #00d7ff; text-decoration-color: #00d7ff\">None</span>, <span style=\"color: #00af00; text-decoration-color: #00af00\">1</span>)                   │             <span style=\"color: #00af00; text-decoration-color: #00af00\">129</span> │\n",
       "└──────────────────────────────────────┴─────────────────────────────┴─────────────────┘\n",
       "</pre>\n"
      ],
      "text/plain": [
       "┏━━━━━━━━━━━━━━━━━━━━━━━━━━━━━━━━━━━━━━┳━━━━━━━━━━━━━━━━━━━━━━━━━━━━━┳━━━━━━━━━━━━━━━━━┓\n",
       "┃\u001b[1m \u001b[0m\u001b[1mLayer (type)                        \u001b[0m\u001b[1m \u001b[0m┃\u001b[1m \u001b[0m\u001b[1mOutput Shape               \u001b[0m\u001b[1m \u001b[0m┃\u001b[1m \u001b[0m\u001b[1m        Param #\u001b[0m\u001b[1m \u001b[0m┃\n",
       "┡━━━━━━━━━━━━━━━━━━━━━━━━━━━━━━━━━━━━━━╇━━━━━━━━━━━━━━━━━━━━━━━━━━━━━╇━━━━━━━━━━━━━━━━━┩\n",
       "│ conv2d_19 (\u001b[38;5;33mConv2D\u001b[0m)                   │ (\u001b[38;5;45mNone\u001b[0m, \u001b[38;5;34m222\u001b[0m, \u001b[38;5;34m222\u001b[0m, \u001b[38;5;34m32\u001b[0m)        │             \u001b[38;5;34m896\u001b[0m │\n",
       "├──────────────────────────────────────┼─────────────────────────────┼─────────────────┤\n",
       "│ max_pooling2d_19 (\u001b[38;5;33mMaxPooling2D\u001b[0m)      │ (\u001b[38;5;45mNone\u001b[0m, \u001b[38;5;34m111\u001b[0m, \u001b[38;5;34m111\u001b[0m, \u001b[38;5;34m32\u001b[0m)        │               \u001b[38;5;34m0\u001b[0m │\n",
       "├──────────────────────────────────────┼─────────────────────────────┼─────────────────┤\n",
       "│ conv2d_20 (\u001b[38;5;33mConv2D\u001b[0m)                   │ (\u001b[38;5;45mNone\u001b[0m, \u001b[38;5;34m109\u001b[0m, \u001b[38;5;34m109\u001b[0m, \u001b[38;5;34m64\u001b[0m)        │          \u001b[38;5;34m18,496\u001b[0m │\n",
       "├──────────────────────────────────────┼─────────────────────────────┼─────────────────┤\n",
       "│ max_pooling2d_20 (\u001b[38;5;33mMaxPooling2D\u001b[0m)      │ (\u001b[38;5;45mNone\u001b[0m, \u001b[38;5;34m54\u001b[0m, \u001b[38;5;34m54\u001b[0m, \u001b[38;5;34m64\u001b[0m)          │               \u001b[38;5;34m0\u001b[0m │\n",
       "├──────────────────────────────────────┼─────────────────────────────┼─────────────────┤\n",
       "│ flatten_7 (\u001b[38;5;33mFlatten\u001b[0m)                  │ (\u001b[38;5;45mNone\u001b[0m, \u001b[38;5;34m186624\u001b[0m)              │               \u001b[38;5;34m0\u001b[0m │\n",
       "├──────────────────────────────────────┼─────────────────────────────┼─────────────────┤\n",
       "│ dense_14 (\u001b[38;5;33mDense\u001b[0m)                     │ (\u001b[38;5;45mNone\u001b[0m, \u001b[38;5;34m128\u001b[0m)                 │      \u001b[38;5;34m23,888,000\u001b[0m │\n",
       "├──────────────────────────────────────┼─────────────────────────────┼─────────────────┤\n",
       "│ dropout_7 (\u001b[38;5;33mDropout\u001b[0m)                  │ (\u001b[38;5;45mNone\u001b[0m, \u001b[38;5;34m128\u001b[0m)                 │               \u001b[38;5;34m0\u001b[0m │\n",
       "├──────────────────────────────────────┼─────────────────────────────┼─────────────────┤\n",
       "│ dense_15 (\u001b[38;5;33mDense\u001b[0m)                     │ (\u001b[38;5;45mNone\u001b[0m, \u001b[38;5;34m1\u001b[0m)                   │             \u001b[38;5;34m129\u001b[0m │\n",
       "└──────────────────────────────────────┴─────────────────────────────┴─────────────────┘\n"
      ]
     },
     "metadata": {},
     "output_type": "display_data"
    },
    {
     "data": {
      "text/html": [
       "<pre style=\"white-space:pre;overflow-x:auto;line-height:normal;font-family:Menlo,'DejaVu Sans Mono',consolas,'Courier New',monospace\"><span style=\"font-weight: bold\"> Total params: </span><span style=\"color: #00af00; text-decoration-color: #00af00\">23,907,521</span> (91.20 MB)\n",
       "</pre>\n"
      ],
      "text/plain": [
       "\u001b[1m Total params: \u001b[0m\u001b[38;5;34m23,907,521\u001b[0m (91.20 MB)\n"
      ]
     },
     "metadata": {},
     "output_type": "display_data"
    },
    {
     "data": {
      "text/html": [
       "<pre style=\"white-space:pre;overflow-x:auto;line-height:normal;font-family:Menlo,'DejaVu Sans Mono',consolas,'Courier New',monospace\"><span style=\"font-weight: bold\"> Trainable params: </span><span style=\"color: #00af00; text-decoration-color: #00af00\">23,907,521</span> (91.20 MB)\n",
       "</pre>\n"
      ],
      "text/plain": [
       "\u001b[1m Trainable params: \u001b[0m\u001b[38;5;34m23,907,521\u001b[0m (91.20 MB)\n"
      ]
     },
     "metadata": {},
     "output_type": "display_data"
    },
    {
     "data": {
      "text/html": [
       "<pre style=\"white-space:pre;overflow-x:auto;line-height:normal;font-family:Menlo,'DejaVu Sans Mono',consolas,'Courier New',monospace\"><span style=\"font-weight: bold\"> Non-trainable params: </span><span style=\"color: #00af00; text-decoration-color: #00af00\">0</span> (0.00 B)\n",
       "</pre>\n"
      ],
      "text/plain": [
       "\u001b[1m Non-trainable params: \u001b[0m\u001b[38;5;34m0\u001b[0m (0.00 B)\n"
      ]
     },
     "metadata": {},
     "output_type": "display_data"
    },
    {
     "data": {
      "text/html": [
       "<pre style=\"white-space:pre;overflow-x:auto;line-height:normal;font-family:Menlo,'DejaVu Sans Mono',consolas,'Courier New',monospace\"><span style=\"font-weight: bold\">Model: \"sequential_9\"</span>\n",
       "</pre>\n"
      ],
      "text/plain": [
       "\u001b[1mModel: \"sequential_9\"\u001b[0m\n"
      ]
     },
     "metadata": {},
     "output_type": "display_data"
    },
    {
     "data": {
      "text/html": [
       "<pre style=\"white-space:pre;overflow-x:auto;line-height:normal;font-family:Menlo,'DejaVu Sans Mono',consolas,'Courier New',monospace\">┏━━━━━━━━━━━━━━━━━━━━━━━━━━━━━━━━━━━━━━┳━━━━━━━━━━━━━━━━━━━━━━━━━━━━━┳━━━━━━━━━━━━━━━━━┓\n",
       "┃<span style=\"font-weight: bold\"> Layer (type)                         </span>┃<span style=\"font-weight: bold\"> Output Shape                </span>┃<span style=\"font-weight: bold\">         Param # </span>┃\n",
       "┡━━━━━━━━━━━━━━━━━━━━━━━━━━━━━━━━━━━━━━╇━━━━━━━━━━━━━━━━━━━━━━━━━━━━━╇━━━━━━━━━━━━━━━━━┩\n",
       "│ conv2d_24 (<span style=\"color: #0087ff; text-decoration-color: #0087ff\">Conv2D</span>)                   │ (<span style=\"color: #00d7ff; text-decoration-color: #00d7ff\">None</span>, <span style=\"color: #00af00; text-decoration-color: #00af00\">222</span>, <span style=\"color: #00af00; text-decoration-color: #00af00\">222</span>, <span style=\"color: #00af00; text-decoration-color: #00af00\">32</span>)        │             <span style=\"color: #00af00; text-decoration-color: #00af00\">896</span> │\n",
       "├──────────────────────────────────────┼─────────────────────────────┼─────────────────┤\n",
       "│ max_pooling2d_24 (<span style=\"color: #0087ff; text-decoration-color: #0087ff\">MaxPooling2D</span>)      │ (<span style=\"color: #00d7ff; text-decoration-color: #00d7ff\">None</span>, <span style=\"color: #00af00; text-decoration-color: #00af00\">111</span>, <span style=\"color: #00af00; text-decoration-color: #00af00\">111</span>, <span style=\"color: #00af00; text-decoration-color: #00af00\">32</span>)        │               <span style=\"color: #00af00; text-decoration-color: #00af00\">0</span> │\n",
       "├──────────────────────────────────────┼─────────────────────────────┼─────────────────┤\n",
       "│ conv2d_25 (<span style=\"color: #0087ff; text-decoration-color: #0087ff\">Conv2D</span>)                   │ (<span style=\"color: #00d7ff; text-decoration-color: #00d7ff\">None</span>, <span style=\"color: #00af00; text-decoration-color: #00af00\">109</span>, <span style=\"color: #00af00; text-decoration-color: #00af00\">109</span>, <span style=\"color: #00af00; text-decoration-color: #00af00\">64</span>)        │          <span style=\"color: #00af00; text-decoration-color: #00af00\">18,496</span> │\n",
       "├──────────────────────────────────────┼─────────────────────────────┼─────────────────┤\n",
       "│ max_pooling2d_25 (<span style=\"color: #0087ff; text-decoration-color: #0087ff\">MaxPooling2D</span>)      │ (<span style=\"color: #00d7ff; text-decoration-color: #00d7ff\">None</span>, <span style=\"color: #00af00; text-decoration-color: #00af00\">54</span>, <span style=\"color: #00af00; text-decoration-color: #00af00\">54</span>, <span style=\"color: #00af00; text-decoration-color: #00af00\">64</span>)          │               <span style=\"color: #00af00; text-decoration-color: #00af00\">0</span> │\n",
       "├──────────────────────────────────────┼─────────────────────────────┼─────────────────┤\n",
       "│ conv2d_26 (<span style=\"color: #0087ff; text-decoration-color: #0087ff\">Conv2D</span>)                   │ (<span style=\"color: #00d7ff; text-decoration-color: #00d7ff\">None</span>, <span style=\"color: #00af00; text-decoration-color: #00af00\">52</span>, <span style=\"color: #00af00; text-decoration-color: #00af00\">52</span>, <span style=\"color: #00af00; text-decoration-color: #00af00\">128</span>)         │          <span style=\"color: #00af00; text-decoration-color: #00af00\">73,856</span> │\n",
       "├──────────────────────────────────────┼─────────────────────────────┼─────────────────┤\n",
       "│ max_pooling2d_26 (<span style=\"color: #0087ff; text-decoration-color: #0087ff\">MaxPooling2D</span>)      │ (<span style=\"color: #00d7ff; text-decoration-color: #00d7ff\">None</span>, <span style=\"color: #00af00; text-decoration-color: #00af00\">26</span>, <span style=\"color: #00af00; text-decoration-color: #00af00\">26</span>, <span style=\"color: #00af00; text-decoration-color: #00af00\">128</span>)         │               <span style=\"color: #00af00; text-decoration-color: #00af00\">0</span> │\n",
       "├──────────────────────────────────────┼─────────────────────────────┼─────────────────┤\n",
       "│ conv2d_27 (<span style=\"color: #0087ff; text-decoration-color: #0087ff\">Conv2D</span>)                   │ (<span style=\"color: #00d7ff; text-decoration-color: #00d7ff\">None</span>, <span style=\"color: #00af00; text-decoration-color: #00af00\">24</span>, <span style=\"color: #00af00; text-decoration-color: #00af00\">24</span>, <span style=\"color: #00af00; text-decoration-color: #00af00\">128</span>)         │         <span style=\"color: #00af00; text-decoration-color: #00af00\">147,584</span> │\n",
       "├──────────────────────────────────────┼─────────────────────────────┼─────────────────┤\n",
       "│ max_pooling2d_27 (<span style=\"color: #0087ff; text-decoration-color: #0087ff\">MaxPooling2D</span>)      │ (<span style=\"color: #00d7ff; text-decoration-color: #00d7ff\">None</span>, <span style=\"color: #00af00; text-decoration-color: #00af00\">12</span>, <span style=\"color: #00af00; text-decoration-color: #00af00\">12</span>, <span style=\"color: #00af00; text-decoration-color: #00af00\">128</span>)         │               <span style=\"color: #00af00; text-decoration-color: #00af00\">0</span> │\n",
       "├──────────────────────────────────────┼─────────────────────────────┼─────────────────┤\n",
       "│ flatten_9 (<span style=\"color: #0087ff; text-decoration-color: #0087ff\">Flatten</span>)                  │ (<span style=\"color: #00d7ff; text-decoration-color: #00d7ff\">None</span>, <span style=\"color: #00af00; text-decoration-color: #00af00\">18432</span>)               │               <span style=\"color: #00af00; text-decoration-color: #00af00\">0</span> │\n",
       "├──────────────────────────────────────┼─────────────────────────────┼─────────────────┤\n",
       "│ dense_18 (<span style=\"color: #0087ff; text-decoration-color: #0087ff\">Dense</span>)                     │ (<span style=\"color: #00d7ff; text-decoration-color: #00d7ff\">None</span>, <span style=\"color: #00af00; text-decoration-color: #00af00\">512</span>)                 │       <span style=\"color: #00af00; text-decoration-color: #00af00\">9,437,696</span> │\n",
       "├──────────────────────────────────────┼─────────────────────────────┼─────────────────┤\n",
       "│ dropout_9 (<span style=\"color: #0087ff; text-decoration-color: #0087ff\">Dropout</span>)                  │ (<span style=\"color: #00d7ff; text-decoration-color: #00d7ff\">None</span>, <span style=\"color: #00af00; text-decoration-color: #00af00\">512</span>)                 │               <span style=\"color: #00af00; text-decoration-color: #00af00\">0</span> │\n",
       "├──────────────────────────────────────┼─────────────────────────────┼─────────────────┤\n",
       "│ dense_19 (<span style=\"color: #0087ff; text-decoration-color: #0087ff\">Dense</span>)                     │ (<span style=\"color: #00d7ff; text-decoration-color: #00d7ff\">None</span>, <span style=\"color: #00af00; text-decoration-color: #00af00\">1</span>)                   │             <span style=\"color: #00af00; text-decoration-color: #00af00\">513</span> │\n",
       "└──────────────────────────────────────┴─────────────────────────────┴─────────────────┘\n",
       "</pre>\n"
      ],
      "text/plain": [
       "┏━━━━━━━━━━━━━━━━━━━━━━━━━━━━━━━━━━━━━━┳━━━━━━━━━━━━━━━━━━━━━━━━━━━━━┳━━━━━━━━━━━━━━━━━┓\n",
       "┃\u001b[1m \u001b[0m\u001b[1mLayer (type)                        \u001b[0m\u001b[1m \u001b[0m┃\u001b[1m \u001b[0m\u001b[1mOutput Shape               \u001b[0m\u001b[1m \u001b[0m┃\u001b[1m \u001b[0m\u001b[1m        Param #\u001b[0m\u001b[1m \u001b[0m┃\n",
       "┡━━━━━━━━━━━━━━━━━━━━━━━━━━━━━━━━━━━━━━╇━━━━━━━━━━━━━━━━━━━━━━━━━━━━━╇━━━━━━━━━━━━━━━━━┩\n",
       "│ conv2d_24 (\u001b[38;5;33mConv2D\u001b[0m)                   │ (\u001b[38;5;45mNone\u001b[0m, \u001b[38;5;34m222\u001b[0m, \u001b[38;5;34m222\u001b[0m, \u001b[38;5;34m32\u001b[0m)        │             \u001b[38;5;34m896\u001b[0m │\n",
       "├──────────────────────────────────────┼─────────────────────────────┼─────────────────┤\n",
       "│ max_pooling2d_24 (\u001b[38;5;33mMaxPooling2D\u001b[0m)      │ (\u001b[38;5;45mNone\u001b[0m, \u001b[38;5;34m111\u001b[0m, \u001b[38;5;34m111\u001b[0m, \u001b[38;5;34m32\u001b[0m)        │               \u001b[38;5;34m0\u001b[0m │\n",
       "├──────────────────────────────────────┼─────────────────────────────┼─────────────────┤\n",
       "│ conv2d_25 (\u001b[38;5;33mConv2D\u001b[0m)                   │ (\u001b[38;5;45mNone\u001b[0m, \u001b[38;5;34m109\u001b[0m, \u001b[38;5;34m109\u001b[0m, \u001b[38;5;34m64\u001b[0m)        │          \u001b[38;5;34m18,496\u001b[0m │\n",
       "├──────────────────────────────────────┼─────────────────────────────┼─────────────────┤\n",
       "│ max_pooling2d_25 (\u001b[38;5;33mMaxPooling2D\u001b[0m)      │ (\u001b[38;5;45mNone\u001b[0m, \u001b[38;5;34m54\u001b[0m, \u001b[38;5;34m54\u001b[0m, \u001b[38;5;34m64\u001b[0m)          │               \u001b[38;5;34m0\u001b[0m │\n",
       "├──────────────────────────────────────┼─────────────────────────────┼─────────────────┤\n",
       "│ conv2d_26 (\u001b[38;5;33mConv2D\u001b[0m)                   │ (\u001b[38;5;45mNone\u001b[0m, \u001b[38;5;34m52\u001b[0m, \u001b[38;5;34m52\u001b[0m, \u001b[38;5;34m128\u001b[0m)         │          \u001b[38;5;34m73,856\u001b[0m │\n",
       "├──────────────────────────────────────┼─────────────────────────────┼─────────────────┤\n",
       "│ max_pooling2d_26 (\u001b[38;5;33mMaxPooling2D\u001b[0m)      │ (\u001b[38;5;45mNone\u001b[0m, \u001b[38;5;34m26\u001b[0m, \u001b[38;5;34m26\u001b[0m, \u001b[38;5;34m128\u001b[0m)         │               \u001b[38;5;34m0\u001b[0m │\n",
       "├──────────────────────────────────────┼─────────────────────────────┼─────────────────┤\n",
       "│ conv2d_27 (\u001b[38;5;33mConv2D\u001b[0m)                   │ (\u001b[38;5;45mNone\u001b[0m, \u001b[38;5;34m24\u001b[0m, \u001b[38;5;34m24\u001b[0m, \u001b[38;5;34m128\u001b[0m)         │         \u001b[38;5;34m147,584\u001b[0m │\n",
       "├──────────────────────────────────────┼─────────────────────────────┼─────────────────┤\n",
       "│ max_pooling2d_27 (\u001b[38;5;33mMaxPooling2D\u001b[0m)      │ (\u001b[38;5;45mNone\u001b[0m, \u001b[38;5;34m12\u001b[0m, \u001b[38;5;34m12\u001b[0m, \u001b[38;5;34m128\u001b[0m)         │               \u001b[38;5;34m0\u001b[0m │\n",
       "├──────────────────────────────────────┼─────────────────────────────┼─────────────────┤\n",
       "│ flatten_9 (\u001b[38;5;33mFlatten\u001b[0m)                  │ (\u001b[38;5;45mNone\u001b[0m, \u001b[38;5;34m18432\u001b[0m)               │               \u001b[38;5;34m0\u001b[0m │\n",
       "├──────────────────────────────────────┼─────────────────────────────┼─────────────────┤\n",
       "│ dense_18 (\u001b[38;5;33mDense\u001b[0m)                     │ (\u001b[38;5;45mNone\u001b[0m, \u001b[38;5;34m512\u001b[0m)                 │       \u001b[38;5;34m9,437,696\u001b[0m │\n",
       "├──────────────────────────────────────┼─────────────────────────────┼─────────────────┤\n",
       "│ dropout_9 (\u001b[38;5;33mDropout\u001b[0m)                  │ (\u001b[38;5;45mNone\u001b[0m, \u001b[38;5;34m512\u001b[0m)                 │               \u001b[38;5;34m0\u001b[0m │\n",
       "├──────────────────────────────────────┼─────────────────────────────┼─────────────────┤\n",
       "│ dense_19 (\u001b[38;5;33mDense\u001b[0m)                     │ (\u001b[38;5;45mNone\u001b[0m, \u001b[38;5;34m1\u001b[0m)                   │             \u001b[38;5;34m513\u001b[0m │\n",
       "└──────────────────────────────────────┴─────────────────────────────┴─────────────────┘\n"
      ]
     },
     "metadata": {},
     "output_type": "display_data"
    },
    {
     "data": {
      "text/html": [
       "<pre style=\"white-space:pre;overflow-x:auto;line-height:normal;font-family:Menlo,'DejaVu Sans Mono',consolas,'Courier New',monospace\"><span style=\"font-weight: bold\"> Total params: </span><span style=\"color: #00af00; text-decoration-color: #00af00\">9,679,041</span> (36.92 MB)\n",
       "</pre>\n"
      ],
      "text/plain": [
       "\u001b[1m Total params: \u001b[0m\u001b[38;5;34m9,679,041\u001b[0m (36.92 MB)\n"
      ]
     },
     "metadata": {},
     "output_type": "display_data"
    },
    {
     "data": {
      "text/html": [
       "<pre style=\"white-space:pre;overflow-x:auto;line-height:normal;font-family:Menlo,'DejaVu Sans Mono',consolas,'Courier New',monospace\"><span style=\"font-weight: bold\"> Trainable params: </span><span style=\"color: #00af00; text-decoration-color: #00af00\">9,679,041</span> (36.92 MB)\n",
       "</pre>\n"
      ],
      "text/plain": [
       "\u001b[1m Trainable params: \u001b[0m\u001b[38;5;34m9,679,041\u001b[0m (36.92 MB)\n"
      ]
     },
     "metadata": {},
     "output_type": "display_data"
    },
    {
     "data": {
      "text/html": [
       "<pre style=\"white-space:pre;overflow-x:auto;line-height:normal;font-family:Menlo,'DejaVu Sans Mono',consolas,'Courier New',monospace\"><span style=\"font-weight: bold\"> Non-trainable params: </span><span style=\"color: #00af00; text-decoration-color: #00af00\">0</span> (0.00 B)\n",
       "</pre>\n"
      ],
      "text/plain": [
       "\u001b[1m Non-trainable params: \u001b[0m\u001b[38;5;34m0\u001b[0m (0.00 B)\n"
      ]
     },
     "metadata": {},
     "output_type": "display_data"
    }
   ],
   "source": [
    "# Compile the model\n",
    "model_1.compile(optimizer='adam',\n",
    "              loss='binary_crossentropy',\n",
    "              metrics=['accuracy'])\n",
    "\n",
    "model_1.summary()\n",
    "\n",
    "# Compile the model\n",
    "model_2.compile(optimizer='adam',\n",
    "              loss='binary_crossentropy',\n",
    "              metrics=['accuracy'])\n",
    "\n",
    "model_2.summary()\n"
   ]
  },
  {
   "cell_type": "code",
   "execution_count": 56,
   "id": "78db249d-e6dd-41ff-9517-e2b8afca0ddd",
   "metadata": {},
   "outputs": [
    {
     "name": "stdout",
     "output_type": "stream",
     "text": [
      "Epoch 1/15\n",
      "\u001b[1m24/24\u001b[0m \u001b[32m━━━━━━━━━━━━━━━━━━━━\u001b[0m\u001b[37m\u001b[0m \u001b[1m74s\u001b[0m 3s/step - accuracy: 0.6608 - loss: 0.6487 - val_accuracy: 0.8008 - val_loss: 0.5027\n",
      "Epoch 2/15\n",
      "\u001b[1m24/24\u001b[0m \u001b[32m━━━━━━━━━━━━━━━━━━━━\u001b[0m\u001b[37m\u001b[0m \u001b[1m70s\u001b[0m 3s/step - accuracy: 0.7207 - loss: 0.5654 - val_accuracy: 0.8281 - val_loss: 0.4472\n",
      "Epoch 3/15\n",
      "\u001b[1m24/24\u001b[0m \u001b[32m━━━━━━━━━━━━━━━━━━━━\u001b[0m\u001b[37m\u001b[0m \u001b[1m72s\u001b[0m 3s/step - accuracy: 0.7884 - loss: 0.4809 - val_accuracy: 0.7812 - val_loss: 0.4268\n",
      "Epoch 4/15\n",
      "\u001b[1m24/24\u001b[0m \u001b[32m━━━━━━━━━━━━━━━━━━━━\u001b[0m\u001b[37m\u001b[0m \u001b[1m72s\u001b[0m 3s/step - accuracy: 0.8228 - loss: 0.4204 - val_accuracy: 0.7852 - val_loss: 0.4597\n",
      "Epoch 5/15\n",
      "\u001b[1m24/24\u001b[0m \u001b[32m━━━━━━━━━━━━━━━━━━━━\u001b[0m\u001b[37m\u001b[0m \u001b[1m75s\u001b[0m 3s/step - accuracy: 0.8015 - loss: 0.4142 - val_accuracy: 0.8574 - val_loss: 0.3070\n",
      "Epoch 6/15\n",
      "\u001b[1m24/24\u001b[0m \u001b[32m━━━━━━━━━━━━━━━━━━━━\u001b[0m\u001b[37m\u001b[0m \u001b[1m70s\u001b[0m 3s/step - accuracy: 0.8325 - loss: 0.3866 - val_accuracy: 0.8457 - val_loss: 0.3070\n",
      "Epoch 7/15\n",
      "\u001b[1m24/24\u001b[0m \u001b[32m━━━━━━━━━━━━━━━━━━━━\u001b[0m\u001b[37m\u001b[0m \u001b[1m89s\u001b[0m 4s/step - accuracy: 0.8318 - loss: 0.3756 - val_accuracy: 0.9180 - val_loss: 0.2320\n",
      "Epoch 8/15\n",
      "\u001b[1m24/24\u001b[0m \u001b[32m━━━━━━━━━━━━━━━━━━━━\u001b[0m\u001b[37m\u001b[0m \u001b[1m118s\u001b[0m 2s/step - accuracy: 0.8441 - loss: 0.3638 - val_accuracy: 0.9160 - val_loss: 0.1957\n",
      "Epoch 9/15\n",
      "\u001b[1m24/24\u001b[0m \u001b[32m━━━━━━━━━━━━━━━━━━━━\u001b[0m\u001b[37m\u001b[0m \u001b[1m68s\u001b[0m 3s/step - accuracy: 0.8478 - loss: 0.3381 - val_accuracy: 0.8965 - val_loss: 0.2324\n",
      "Epoch 10/15\n",
      "\u001b[1m24/24\u001b[0m \u001b[32m━━━━━━━━━━━━━━━━━━━━\u001b[0m\u001b[37m\u001b[0m \u001b[1m65s\u001b[0m 3s/step - accuracy: 0.8682 - loss: 0.3039 - val_accuracy: 0.8164 - val_loss: 0.4348\n",
      "Epoch 11/15\n",
      "\u001b[1m24/24\u001b[0m \u001b[32m━━━━━━━━━━━━━━━━━━━━\u001b[0m\u001b[37m\u001b[0m \u001b[1m67s\u001b[0m 3s/step - accuracy: 0.8357 - loss: 0.3287 - val_accuracy: 0.9102 - val_loss: 0.2072\n"
     ]
    }
   ],
   "source": [
    "from tensorflow.keras.callbacks import EarlyStopping\n",
    "\n",
    "# Define early stopping\n",
    "early_stopping = EarlyStopping(\n",
    "    monitor='val_loss',        \n",
    "    patience=3,               \n",
    "    restore_best_weights=True  \n",
    ")\n",
    "\n",
    "# Train\n",
    "history = model_1.fit(\n",
    "    train_generator,\n",
    "    epochs=15,\n",
    "    validation_data=val_generator,\n",
    "    callbacks=[early_stopping]  \n",
    ")"
   ]
  },
  {
   "cell_type": "code",
   "execution_count": 64,
   "id": "62d4f931-1e02-4819-8c5e-fb50a84eefaa",
   "metadata": {},
   "outputs": [
    {
     "name": "stdout",
     "output_type": "stream",
     "text": [
      "Epoch 1/15\n",
      "\u001b[1m24/24\u001b[0m \u001b[32m━━━━━━━━━━━━━━━━━━━━\u001b[0m\u001b[37m\u001b[0m \u001b[1m106s\u001b[0m 4s/step - accuracy: 0.5763 - loss: 0.6958 - val_accuracy: 0.8203 - val_loss: 0.4605\n",
      "Epoch 2/15\n",
      "\u001b[1m24/24\u001b[0m \u001b[32m━━━━━━━━━━━━━━━━━━━━\u001b[0m\u001b[37m\u001b[0m \u001b[1m117s\u001b[0m 5s/step - accuracy: 0.7328 - loss: 0.5333 - val_accuracy: 0.7090 - val_loss: 0.6627\n",
      "Epoch 3/15\n",
      "\u001b[1m24/24\u001b[0m \u001b[32m━━━━━━━━━━━━━━━━━━━━\u001b[0m\u001b[37m\u001b[0m \u001b[1m142s\u001b[0m 5s/step - accuracy: 0.8085 - loss: 0.4145 - val_accuracy: 0.8281 - val_loss: 0.3677\n",
      "Epoch 4/15\n",
      "\u001b[1m24/24\u001b[0m \u001b[32m━━━━━━━━━━━━━━━━━━━━\u001b[0m\u001b[37m\u001b[0m \u001b[1m112s\u001b[0m 4s/step - accuracy: 0.8399 - loss: 0.3337 - val_accuracy: 0.8711 - val_loss: 0.2804\n",
      "Epoch 5/15\n",
      "\u001b[1m24/24\u001b[0m \u001b[32m━━━━━━━━━━━━━━━━━━━━\u001b[0m\u001b[37m\u001b[0m \u001b[1m114s\u001b[0m 5s/step - accuracy: 0.8548 - loss: 0.3104 - val_accuracy: 0.8652 - val_loss: 0.3399\n",
      "Epoch 6/15\n",
      "\u001b[1m24/24\u001b[0m \u001b[32m━━━━━━━━━━━━━━━━━━━━\u001b[0m\u001b[37m\u001b[0m \u001b[1m117s\u001b[0m 5s/step - accuracy: 0.8997 - loss: 0.2182 - val_accuracy: 0.8906 - val_loss: 0.2452\n",
      "Epoch 7/15\n",
      "\u001b[1m24/24\u001b[0m \u001b[32m━━━━━━━━━━━━━━━━━━━━\u001b[0m\u001b[37m\u001b[0m \u001b[1m117s\u001b[0m 5s/step - accuracy: 0.9388 - loss: 0.1715 - val_accuracy: 0.8828 - val_loss: 0.2584\n",
      "Epoch 8/15\n",
      "\u001b[1m24/24\u001b[0m \u001b[32m━━━━━━━━━━━━━━━━━━━━\u001b[0m\u001b[37m\u001b[0m \u001b[1m119s\u001b[0m 5s/step - accuracy: 0.9426 - loss: 0.1759 - val_accuracy: 0.6992 - val_loss: 0.9116\n",
      "Epoch 9/15\n",
      "\u001b[1m24/24\u001b[0m \u001b[32m━━━━━━━━━━━━━━━━━━━━\u001b[0m\u001b[37m\u001b[0m \u001b[1m106s\u001b[0m 3s/step - accuracy: 0.8770 - loss: 0.2845 - val_accuracy: 0.9258 - val_loss: 0.1684\n",
      "Epoch 10/15\n",
      "\u001b[1m24/24\u001b[0m \u001b[32m━━━━━━━━━━━━━━━━━━━━\u001b[0m\u001b[37m\u001b[0m \u001b[1m155s\u001b[0m 4s/step - accuracy: 0.9218 - loss: 0.1778 - val_accuracy: 0.8809 - val_loss: 0.3481\n",
      "Epoch 11/15\n",
      "\u001b[1m24/24\u001b[0m \u001b[32m━━━━━━━━━━━━━━━━━━━━\u001b[0m\u001b[37m\u001b[0m \u001b[1m100s\u001b[0m 4s/step - accuracy: 0.9167 - loss: 0.2248 - val_accuracy: 0.9512 - val_loss: 0.1066\n",
      "Epoch 12/15\n",
      "\u001b[1m24/24\u001b[0m \u001b[32m━━━━━━━━━━━━━━━━━━━━\u001b[0m\u001b[37m\u001b[0m \u001b[1m143s\u001b[0m 4s/step - accuracy: 0.9122 - loss: 0.1972 - val_accuracy: 0.9180 - val_loss: 0.1702\n",
      "Epoch 13/15\n",
      "\u001b[1m24/24\u001b[0m \u001b[32m━━━━━━━━━━━━━━━━━━━━\u001b[0m\u001b[37m\u001b[0m \u001b[1m96s\u001b[0m 4s/step - accuracy: 0.9345 - loss: 0.1550 - val_accuracy: 0.7656 - val_loss: 0.6121\n",
      "Epoch 14/15\n",
      "\u001b[1m24/24\u001b[0m \u001b[32m━━━━━━━━━━━━━━━━━━━━\u001b[0m\u001b[37m\u001b[0m \u001b[1m112s\u001b[0m 4s/step - accuracy: 0.9332 - loss: 0.1701 - val_accuracy: 0.9570 - val_loss: 0.1131\n"
     ]
    }
   ],
   "source": [
    "from tensorflow.keras.callbacks import EarlyStopping\n",
    "\n",
    "# Early stopping\n",
    "early_stopping = EarlyStopping(\n",
    "    monitor='val_loss',        \n",
    "    patience=3,               \n",
    "    restore_best_weights=True  \n",
    ")\n",
    "\n",
    "# Train\n",
    "history = model_2.fit(\n",
    "    train_generator,\n",
    "    epochs=15,\n",
    "    validation_data=val_generator,\n",
    "    callbacks=[early_stopping]  \n",
    ")"
   ]
  },
  {
   "cell_type": "code",
   "execution_count": 73,
   "id": "f2e9e403-4295-477f-ae9b-13a1d742b256",
   "metadata": {
    "scrolled": true
   },
   "outputs": [
    {
     "ename": "KeyError",
     "evalue": "'patient'",
     "output_type": "error",
     "traceback": [
      "\u001b[1;31m---------------------------------------------------------------------------\u001b[0m",
      "\u001b[1;31mKeyError\u001b[0m                                  Traceback (most recent call last)",
      "File \u001b[1;32m~\\anaconda311\\Lib\\site-packages\\pandas\\core\\indexes\\base.py:3791\u001b[0m, in \u001b[0;36mIndex.get_loc\u001b[1;34m(self, key)\u001b[0m\n\u001b[0;32m   3790\u001b[0m \u001b[38;5;28;01mtry\u001b[39;00m:\n\u001b[1;32m-> 3791\u001b[0m     \u001b[38;5;28;01mreturn\u001b[39;00m \u001b[38;5;28mself\u001b[39m\u001b[38;5;241m.\u001b[39m_engine\u001b[38;5;241m.\u001b[39mget_loc(casted_key)\n\u001b[0;32m   3792\u001b[0m \u001b[38;5;28;01mexcept\u001b[39;00m \u001b[38;5;167;01mKeyError\u001b[39;00m \u001b[38;5;28;01mas\u001b[39;00m err:\n",
      "File \u001b[1;32mindex.pyx:152\u001b[0m, in \u001b[0;36mpandas._libs.index.IndexEngine.get_loc\u001b[1;34m()\u001b[0m\n",
      "File \u001b[1;32mindex.pyx:181\u001b[0m, in \u001b[0;36mpandas._libs.index.IndexEngine.get_loc\u001b[1;34m()\u001b[0m\n",
      "File \u001b[1;32mpandas\\_libs\\hashtable_class_helper.pxi:7080\u001b[0m, in \u001b[0;36mpandas._libs.hashtable.PyObjectHashTable.get_item\u001b[1;34m()\u001b[0m\n",
      "File \u001b[1;32mpandas\\_libs\\hashtable_class_helper.pxi:7088\u001b[0m, in \u001b[0;36mpandas._libs.hashtable.PyObjectHashTable.get_item\u001b[1;34m()\u001b[0m\n",
      "\u001b[1;31mKeyError\u001b[0m: 'patient'",
      "\nThe above exception was the direct cause of the following exception:\n",
      "\u001b[1;31mKeyError\u001b[0m                                  Traceback (most recent call last)",
      "Cell \u001b[1;32mIn[73], line 31\u001b[0m\n\u001b[0;32m     28\u001b[0m     \u001b[38;5;28;01mreturn\u001b[39;00m dataset\n\u001b[0;32m     30\u001b[0m \u001b[38;5;66;03m# Create the dataset\u001b[39;00m\n\u001b[1;32m---> 31\u001b[0m test_dataset \u001b[38;5;241m=\u001b[39m dataset_created(df, test_dir)\n",
      "Cell \u001b[1;32mIn[73], line 23\u001b[0m, in \u001b[0;36mdataset_created\u001b[1;34m(df, test_dir)\u001b[0m\n\u001b[0;32m     22\u001b[0m \u001b[38;5;28;01mdef\u001b[39;00m \u001b[38;5;21mdataset_created\u001b[39m(df, test_dir):\n\u001b[1;32m---> 23\u001b[0m     image_paths \u001b[38;5;241m=\u001b[39m [os\u001b[38;5;241m.\u001b[39mpath\u001b[38;5;241m.\u001b[39mjoin(test_dir, img_name) \u001b[38;5;28;01mfor\u001b[39;00m img_name \u001b[38;5;129;01min\u001b[39;00m df[\u001b[38;5;124m'\u001b[39m\u001b[38;5;124mpatient\u001b[39m\u001b[38;5;124m'\u001b[39m]]\n\u001b[0;32m     24\u001b[0m     labels \u001b[38;5;241m=\u001b[39m df[\u001b[38;5;124m'\u001b[39m\u001b[38;5;124mdiagnosis\u001b[39m\u001b[38;5;124m'\u001b[39m]\u001b[38;5;241m.\u001b[39mtolist()\n\u001b[0;32m     25\u001b[0m     dataset \u001b[38;5;241m=\u001b[39m tf\u001b[38;5;241m.\u001b[39mdata\u001b[38;5;241m.\u001b[39mDataset\u001b[38;5;241m.\u001b[39mfrom_tensor_slices((image_paths, labels))\n",
      "File \u001b[1;32m~\\anaconda311\\Lib\\site-packages\\pandas\\core\\frame.py:3893\u001b[0m, in \u001b[0;36mDataFrame.__getitem__\u001b[1;34m(self, key)\u001b[0m\n\u001b[0;32m   3891\u001b[0m \u001b[38;5;28;01mif\u001b[39;00m \u001b[38;5;28mself\u001b[39m\u001b[38;5;241m.\u001b[39mcolumns\u001b[38;5;241m.\u001b[39mnlevels \u001b[38;5;241m>\u001b[39m \u001b[38;5;241m1\u001b[39m:\n\u001b[0;32m   3892\u001b[0m     \u001b[38;5;28;01mreturn\u001b[39;00m \u001b[38;5;28mself\u001b[39m\u001b[38;5;241m.\u001b[39m_getitem_multilevel(key)\n\u001b[1;32m-> 3893\u001b[0m indexer \u001b[38;5;241m=\u001b[39m \u001b[38;5;28mself\u001b[39m\u001b[38;5;241m.\u001b[39mcolumns\u001b[38;5;241m.\u001b[39mget_loc(key)\n\u001b[0;32m   3894\u001b[0m \u001b[38;5;28;01mif\u001b[39;00m is_integer(indexer):\n\u001b[0;32m   3895\u001b[0m     indexer \u001b[38;5;241m=\u001b[39m [indexer]\n",
      "File \u001b[1;32m~\\anaconda311\\Lib\\site-packages\\pandas\\core\\indexes\\base.py:3798\u001b[0m, in \u001b[0;36mIndex.get_loc\u001b[1;34m(self, key)\u001b[0m\n\u001b[0;32m   3793\u001b[0m     \u001b[38;5;28;01mif\u001b[39;00m \u001b[38;5;28misinstance\u001b[39m(casted_key, \u001b[38;5;28mslice\u001b[39m) \u001b[38;5;129;01mor\u001b[39;00m (\n\u001b[0;32m   3794\u001b[0m         \u001b[38;5;28misinstance\u001b[39m(casted_key, abc\u001b[38;5;241m.\u001b[39mIterable)\n\u001b[0;32m   3795\u001b[0m         \u001b[38;5;129;01mand\u001b[39;00m \u001b[38;5;28many\u001b[39m(\u001b[38;5;28misinstance\u001b[39m(x, \u001b[38;5;28mslice\u001b[39m) \u001b[38;5;28;01mfor\u001b[39;00m x \u001b[38;5;129;01min\u001b[39;00m casted_key)\n\u001b[0;32m   3796\u001b[0m     ):\n\u001b[0;32m   3797\u001b[0m         \u001b[38;5;28;01mraise\u001b[39;00m InvalidIndexError(key)\n\u001b[1;32m-> 3798\u001b[0m     \u001b[38;5;28;01mraise\u001b[39;00m \u001b[38;5;167;01mKeyError\u001b[39;00m(key) \u001b[38;5;28;01mfrom\u001b[39;00m \u001b[38;5;21;01merr\u001b[39;00m\n\u001b[0;32m   3799\u001b[0m \u001b[38;5;28;01mexcept\u001b[39;00m \u001b[38;5;167;01mTypeError\u001b[39;00m:\n\u001b[0;32m   3800\u001b[0m     \u001b[38;5;66;03m# If we have a listlike key, _check_indexing_error will raise\u001b[39;00m\n\u001b[0;32m   3801\u001b[0m     \u001b[38;5;66;03m#  InvalidIndexError. Otherwise we fall through and re-raise\u001b[39;00m\n\u001b[0;32m   3802\u001b[0m     \u001b[38;5;66;03m#  the TypeError.\u001b[39;00m\n\u001b[0;32m   3803\u001b[0m     \u001b[38;5;28mself\u001b[39m\u001b[38;5;241m.\u001b[39m_check_indexing_error(key)\n",
      "\u001b[1;31mKeyError\u001b[0m: 'patient'"
     ]
    }
   ],
   "source": [
    "import pandas as pd\n",
    "import os\n",
    "import numpy as np\n",
    "import tensorflow as tf\n",
    "from tensorflow.keras.preprocessing.image import ImageDataGenerator, load_img, img_to_array\n",
    "\n",
    "# Paths\n",
    "csv_file = r\"C:\\Users\\bmuki\\Downloads\\dataset2\\dataset2\\image_classes.csv\"\n",
    "test_dir = r\"C:\\Users\\bmuki\\Downloads\\dataset2\\dataset2\\images\"\n",
    "\n",
    "# Load \n",
    "df = pd.read_csv(csv_file)\n",
    "\n",
    "# Function to load and preprocess images\n",
    "def load_and_preprocess_image(filename, label):\n",
    "    image_path = os.path.join(test_dir, filename)\n",
    "    image = load_img(image_path, target_size=(224, 224))\n",
    "    image = img_to_array(image) / 255.0\n",
    "    return image, label\n",
    "\n",
    "# Dataset from the CSV file\n",
    "def dataset_created(df, test_dir):\n",
    "    image_paths = [os.path.join(test_dir, img_name) for img_name in df['patient']]\n",
    "    labels = df['diagnosis'].tolist()\n",
    "    dataset = tf.data.Dataset.from_tensor_slices((image_paths, labels))\n",
    "  #  dataset = dataset.map(lambda x, y: tf.numpy_function(load_and_preprocess_image, [x, y], [tf.float32, tf.int32]))\n",
    "  #  dataset = dataset.batch(30)\n",
    "    return dataset\n",
    "\n",
    "# Create the dataset\n",
    "test_dataset = dataset_created(df, test_dir)"
   ]
  },
  {
   "cell_type": "code",
   "execution_count": 71,
   "id": "032c7519-20da-4d72-afa9-ebbc18cb6e41",
   "metadata": {},
   "outputs": [
    {
     "name": "stdout",
     "output_type": "stream",
     "text": [
      "    patient   diagnosis (0-Normal, 1-Sick)\n",
      "0  sick_eff0                             0\n",
      "1  sick_eff1                             0\n",
      "2  sick_eff2                             0\n",
      "3  sick_eff3                             0\n",
      "4  sick_eff4                             0\n"
     ]
    }
   ],
   "source": [
    "print(df.head())"
   ]
  },
  {
   "cell_type": "code",
   "execution_count": null,
   "id": "1698e229-3ec0-433e-a014-71b64969503b",
   "metadata": {},
   "outputs": [],
   "source": [
    "test_dir = r\"C:\\Users\\bmuki\\Downloads\\dataset2\\dataset2\\images\"\n",
    "test_generator = test_aug.flow_from_directory(\n",
    "    test_dir,                  \n",
    "    target_size=(224, 224),    \n",
    "    batch_size=30,            \n",
    "    class_mode='binary'        \n",
    ")\n",
    "\n",
    "# Evaluate the model on the test data\n",
    "test_loss, test_accuracy = model_2.evaluate(test_generator)\n",
    "\n",
    "print(f\"Test Loss: {test_loss}\")\n",
    "print(f\"Test Accuracy: {test_accuracy}\")\n"
   ]
  },
  {
   "cell_type": "code",
   "execution_count": 60,
   "id": "b9f8d27e-b75f-44a4-9b59-2d57bd325a26",
   "metadata": {},
   "outputs": [
    {
     "name": "stdout",
     "output_type": "stream",
     "text": [
      "Found 0 images in the test dataset.\n"
     ]
    }
   ],
   "source": [
    "print(f\"Found {test_generator.samples} images in the test dataset.\")\n"
   ]
  },
  {
   "cell_type": "code",
   "execution_count": null,
   "id": "a99767f8-ec4e-4ff7-9c68-958953b70b0c",
   "metadata": {},
   "outputs": [],
   "source": []
  }
 ],
 "metadata": {
  "kernelspec": {
   "display_name": "Python 3 (ipykernel)",
   "language": "python",
   "name": "python3"
  },
  "language_info": {
   "codemirror_mode": {
    "name": "ipython",
    "version": 3
   },
   "file_extension": ".py",
   "mimetype": "text/x-python",
   "name": "python",
   "nbconvert_exporter": "python",
   "pygments_lexer": "ipython3",
   "version": "3.11.7"
  }
 },
 "nbformat": 4,
 "nbformat_minor": 5
}
